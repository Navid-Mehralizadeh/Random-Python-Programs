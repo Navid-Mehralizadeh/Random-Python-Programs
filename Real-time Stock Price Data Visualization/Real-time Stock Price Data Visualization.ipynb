{
 "cells": [
  {
   "cell_type": "code",
   "execution_count": null,
   "metadata": {},
   "outputs": [],
   "source": [
    "%%writefile Real_time_Stock_Price.py\n",
    "import pandas as pd\n",
    "import pandas_datareader.data as web\n",
    "import matplotlib.pyplot as plt\n",
    "import datetime\n",
    "import streamlit as st\n",
    "from datetime import date, timedelta"
   ]
  },
  {
   "cell_type": "code",
   "execution_count": null,
   "metadata": {},
   "outputs": [],
   "source": [
    "today = date.today()\n",
    "d1 = today.strftime(\"%Y/%m/%d\")\n",
    "end_date = d1\n",
    "\n",
    "d2 = date.today() - timedelta(days=365)\n",
    "d2 = d2.strftime(\"%Y/%m/%d\")\n",
    "start_date = d2\n",
    "\n",
    "# Ask the user for a company ticker (e.g., AAPL for Apple)\n",
    "a = input(\"Enter Any Company Ticker Symbol >>: \")\n",
    "\n",
    "# Fetch stock data from Yahoo Finance\n",
    "try:\n",
    "    data = web.DataReader(name=a, data_source='yahoo', start=start_date, end=end_date)\n",
    "\n",
    "    # Create a plot\n",
    "    fig, ax = plt.subplots(figsize=(12, 8))\n",
    "    ax.plot(data.index, data[\"Close\"], label=\"Close Price\")\n",
    "    ax.set_title(f\"{a} Stock Prices\", fontsize=20)\n",
    "    ax.set_xlabel(\"Date\")\n",
    "    ax.set_ylabel(\"Price (USD)\")\n",
    "    plt.legend()\n",
    "    plt.grid()\n",
    "\n",
    "    plt.show()\n",
    "\n",
    "except Exception as e:\n",
    "    print(f\"Error fetching data for {a}. Please check the ticker symbol and try again.\")"
   ]
  },
  {
   "cell_type": "code",
   "execution_count": null,
   "metadata": {},
   "outputs": [],
   "source": []
  }
 ],
 "metadata": {
  "kernelspec": {
   "display_name": "Python 3",
   "language": "python",
   "name": "python3"
  },
  "language_info": {
   "codemirror_mode": {
    "name": "ipython",
    "version": 3
   },
   "file_extension": ".py",
   "mimetype": "text/x-python",
   "name": "python",
   "nbconvert_exporter": "python",
   "pygments_lexer": "ipython3",
   "version": "3.8.5"
  }
 },
 "nbformat": 4,
 "nbformat_minor": 4
}
