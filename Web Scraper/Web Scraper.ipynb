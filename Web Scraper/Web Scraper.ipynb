{
 "cells": [
  {
   "cell_type": "code",
   "execution_count": null,
   "metadata": {},
   "outputs": [],
   "source": [
    "import requests\n",
    "from bs4 import BeautifulSoup\n",
    "from urllib.parse import urljoin\n",
    "\n",
    "\n",
    "class Scraper:\n",
    "    def __init__(self, site: str):\n",
    "        self.site = site\n",
    "\n",
    "    def fetch_content(self) -> str:\n",
    "        \n",
    "        try:\n",
    "            response = requests.get(self.site)\n",
    "            response.raise_for_status()\n",
    "            return response.text\n",
    "        except requests.RequestException as e:\n",
    "            print(f\"An error occurred while fetching the site: {e}\")\n",
    "            return \"\"\n",
    "\n",
    "    def scrape(self):\n",
    "        \"\"\"Scrape article URLs from the site.\"\"\"\n",
    "        html = self.fetch_content()\n",
    "        if not html:\n",
    "            return\n",
    "        \n",
    "        parser = \"html.parser\"\n",
    "        soup = BeautifulSoup(html, parser)\n",
    "        \n",
    "        for tag in soup.find_all(\"a\"):\n",
    "            url = tag.get(\"href\")\n",
    "            if url and \"articles\" in url:\n",
    "                full_url = urljoin(self.site, url)\n",
    "                print(full_url)\n",
    "\n",
    "if __name__ == \"__main__\":\n",
    "    news_url = \"https://news.google.com/home?hl=en-US&gl=US&ceid=US:en\"\n",
    "    scraper = Scraper(news_url)\n",
    "    scraper.scrape()"
   ]
  },
  {
   "cell_type": "code",
   "execution_count": null,
   "metadata": {},
   "outputs": [],
   "source": []
  }
 ],
 "metadata": {
  "kernelspec": {
   "display_name": "Python 3",
   "language": "python",
   "name": "python3"
  },
  "language_info": {
   "codemirror_mode": {
    "name": "ipython",
    "version": 3
   },
   "file_extension": ".py",
   "mimetype": "text/x-python",
   "name": "python",
   "nbconvert_exporter": "python",
   "pygments_lexer": "ipython3",
   "version": "3.8.5"
  }
 },
 "nbformat": 4,
 "nbformat_minor": 4
}
