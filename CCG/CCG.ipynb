{
 "cells": [
  {
   "cell_type": "code",
   "execution_count": 1,
   "metadata": {},
   "outputs": [
    {
     "name": "stdout",
     "output_type": "stream",
     "text": [
      "Writing CCG.py\n"
     ]
    }
   ],
   "source": [
    "%%writefile CCG.py\n",
    "\n",
    "import random\n",
    "\n",
    "print(\"Winning Rules of the Colors choices Game as follows: \"+ \"\\nEnter a number from one two five and match computer choice to Win the computer.\") \n",
    "\n",
    "computer_score=0\n",
    "player_score=0\n",
    "\n",
    "while True: \n",
    "    print(\"red = 1 \\nyellow = 2 \\norange = 3 \\ngreen = 4 \\nblue = 5 \\ntake a turn: \") \n",
    "    \n",
    "    player_choice=int(input(\"Pick a number between 1 to 5: \"))\n",
    "    \n",
    "    while player_choice>5 or player_choice<1:\n",
    "        player_choice=int(input(\"Invalid input, try again: \"))\n",
    "        \n",
    "    if player_choice == 1: \n",
    "        choice_col = 'red'\n",
    "    elif player_choice == 2: \n",
    "        choice_col = 'yellow'\n",
    "    elif player_choice == 3: \n",
    "        choice_col= 'orange'\n",
    "    elif player_choice== 4: \n",
    "        choice_col = 'green'    \n",
    "    else: \n",
    "        choice_col = 'blue'\n",
    "        \n",
    "    print(\"user color choice is: \" + choice_col) \n",
    "    print(\"\\nNow its computer turn to choose a color.......\")\n",
    "    \n",
    "    computer_choice=random.randint(1, 5)\n",
    "    \n",
    "    while computer_choice == player_choice: \n",
    "        computer_choice = random.randint(1, 5) \n",
    "    \n",
    "    if computer_choice == 1: \n",
    "        compu_choice_col = 'red'\n",
    "    elif computer_choice == 2: \n",
    "        compu_choice_col = 'yellow'\n",
    "    elif computer_choice == 3: \n",
    "        compu_choice_col = 'orange'\n",
    "    elif computer_choice == 4: \n",
    "        compu_choice_col = 'green'    \n",
    "    else: \n",
    "        compu_choice_col = 'blue'\n",
    "        \n",
    "        print(\"Computer color choice is: \" + compu_choice_col) \n",
    "\n",
    "    if(choice_col == compu_choice_col):\n",
    "        player_score += 1\n",
    "        print(\"player_score: \"+str(player_score))\n",
    "        print(\"computer_score: \"+str(computer_score))\n",
    "    else:\n",
    "        computer_score += 1\n",
    "         \n",
    "        print(\"player_score: \" + str(player_score))\n",
    "        print(\"computer_score: \" +str(computer_score))\n",
    "    print(\"Do you want to play again? (Y/N)\") \n",
    "    answer = input() \n",
    "\n",
    "    if answer == 'n' or answer == 'N': \n",
    "        break \n",
    "    \n",
    "    if computer_score == player_score:\n",
    "        print(\"Game is Tied\")\n",
    "        print(\"\\nThanks for playing\") \n",
    "    elif computer_score < player_score:\n",
    "        print(\"Player is Victorious\")\n",
    "        print(\"<== User wins ==>\")\n",
    "        print(\"\\nThanks for playing\")\n",
    "    elif computer_score > player_score:\n",
    "        print(\"\\n<== Computer wins ==>\")\n",
    "        print(\"\\nPlayer is Defeated\")\n",
    "        print(\"\\nThanks for playing\")    "
   ]
  }
 ],
 "metadata": {
  "kernelspec": {
   "display_name": "Python 3",
   "language": "python",
   "name": "python3"
  },
  "language_info": {
   "codemirror_mode": {
    "name": "ipython",
    "version": 3
   },
   "file_extension": ".py",
   "mimetype": "text/x-python",
   "name": "python",
   "nbconvert_exporter": "python",
   "pygments_lexer": "ipython3",
   "version": "3.8.5"
  }
 },
 "nbformat": 4,
 "nbformat_minor": 4
}
