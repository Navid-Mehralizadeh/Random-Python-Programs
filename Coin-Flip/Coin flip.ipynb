{
 "cells": [
  {
   "cell_type": "code",
   "execution_count": null,
   "metadata": {},
   "outputs": [],
   "source": [
    "%%writefile CoinFlip.py\n",
    "#This code flips a coin however many times the user decides. \n",
    "#It will also record the outcomes and count the number of tails and heads.\n",
    "\n",
    "import random\n",
    "\n",
    "def coin_flip(times):\n",
    "    heads=0\n",
    "    tails=0\n",
    "    for times in range(times):\n",
    "        choice=random.choice([\"heads\",\"tails\"])\n",
    "        \n",
    "        if choice==\"heads\":\n",
    "            heads+=1\n",
    "            print(\"heads\")\n",
    "            \n",
    "        else:\n",
    "            tails+=1\n",
    "            print(\"tails\")\n",
    "            \n",
    "    print(\"heads count: \" + str(heads))\n",
    "    print(\"tails count: \" + str(tails))"
   ]
  }
 ],
 "metadata": {
  "kernelspec": {
   "display_name": "Python 3",
   "language": "python",
   "name": "python3"
  },
  "language_info": {
   "codemirror_mode": {
    "name": "ipython",
    "version": 3
   },
   "file_extension": ".py",
   "mimetype": "text/x-python",
   "name": "python",
   "nbconvert_exporter": "python",
   "pygments_lexer": "ipython3",
   "version": "3.8.5"
  }
 },
 "nbformat": 4,
 "nbformat_minor": 4
}
