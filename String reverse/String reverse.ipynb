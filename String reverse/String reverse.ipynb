{
 "cells": [
  {
   "cell_type": "code",
   "execution_count": null,
   "metadata": {},
   "outputs": [],
   "source": [
    "%%writefile string_reverse.py\n",
    "#This code reverses a given string.\n",
    "\n",
    "def string_reverse(text):\n",
    "    string_reverse=\"\"\n",
    "    num=len(text)-1\n",
    "    \n",
    "    for n in text:\n",
    "        string_reverse += text[num]\n",
    "        num-=1\n",
    "        \n",
    "    return string_reverse   "
   ]
  },
  {
   "cell_type": "code",
   "execution_count": null,
   "metadata": {},
   "outputs": [],
   "source": [
    "#second version.\n",
    "\n",
    "def string_reverse(text):\n",
    "    return text[::-1]"
   ]
  }
 ],
 "metadata": {
  "kernelspec": {
   "display_name": "Python 3",
   "language": "python",
   "name": "python3"
  },
  "language_info": {
   "codemirror_mode": {
    "name": "ipython",
    "version": 3
   },
   "file_extension": ".py",
   "mimetype": "text/x-python",
   "name": "python",
   "nbconvert_exporter": "python",
   "pygments_lexer": "ipython3",
   "version": "3.8.5"
  }
 },
 "nbformat": 4,
 "nbformat_minor": 4
}
