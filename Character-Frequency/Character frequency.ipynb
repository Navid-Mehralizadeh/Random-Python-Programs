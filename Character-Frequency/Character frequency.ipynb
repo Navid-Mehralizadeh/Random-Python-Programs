{
 "cells": [
  {
   "cell_type": "code",
   "execution_count": 1,
   "metadata": {},
   "outputs": [
    {
     "name": "stdout",
     "output_type": "stream",
     "text": [
      "Overwriting character_frequency.py\n"
     ]
    }
   ],
   "source": [
    "%%writefile character_frequency.py\n",
    "#This function takes an input and finds character frequency#\n",
    "\n",
    "def character_frequency():   \n",
    "    \n",
    "    string=input(\"Enter string:\")   \n",
    "    \n",
    "    dict={}   \n",
    "    \n",
    "    for charater in string:       \n",
    "        \n",
    "        keys=dict.keys()       \n",
    "        \n",
    "        if charater in keys:          \n",
    "            \n",
    "            dict[charater]+=1          \n",
    "            \n",
    "        else:            \n",
    "            \n",
    "            dict[charater]=1\n",
    "            \n",
    "    return dict"
   ]
  }
 ],
 "metadata": {
  "kernelspec": {
   "display_name": "Python 3",
   "language": "python",
   "name": "python3"
  },
  "language_info": {
   "codemirror_mode": {
    "name": "ipython",
    "version": 3
   },
   "file_extension": ".py",
   "mimetype": "text/x-python",
   "name": "python",
   "nbconvert_exporter": "python",
   "pygments_lexer": "ipython3",
   "version": "3.8.5"
  }
 },
 "nbformat": 4,
 "nbformat_minor": 4
}
