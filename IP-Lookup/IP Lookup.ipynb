{
 "cells": [
  {
   "cell_type": "code",
   "execution_count": null,
   "metadata": {},
   "outputs": [],
   "source": [
    "%%writefile ip_lookup.py\n",
    "import requests\n",
    "\n",
    "#Single ip request.\n",
    "\n",
    "def single_request():\n",
    "    Address=str(input(\"Please enter IP address: \"))\n",
    "    ip=\"http://ip-api.com/json/\"+Address\n",
    "    response=requests.get(ip).json()\n",
    "\n",
    "    print(response['country'])\n",
    "    print(response['countryCode'])\n",
    "    print(response['region'])\n",
    "    print(response['regionName'])\n",
    "    print(response['city'])\n",
    "    print(response['lat'])\n",
    "    print(response['lon'])\n",
    "    print(response['timezone'])\n",
    "    print(response['isp'])\n",
    "\n",
    "    \n",
    "#Batch ip request.\n",
    "\n",
    "def batch_request():\n",
    "    IP1=str(input(\"Please enter IP1 address(enter none for no IP): \"))\n",
    "    IP2=str(input(\"Please enter IP2 address(enter none for no IP): \"))\n",
    "    IP3=str(input(\"Please enter IP3 address(enter none for no IP): \"))\n",
    "    IP4=str(input(\"Please enter IP4 address(enter none for no IP): \"))\n",
    "    IP5=str(input(\"Please enter IP5 address(enter none for no IP): \"))\n",
    "    \n",
    "    response = requests.post(\"http://ip-api.com/batch\", json=[\n",
    "      {\"query\": IP1},\n",
    "      {\"query\": IP2},\n",
    "      {\"query\": IP3},\n",
    "      {\"query\": IP4},\n",
    "      {\"query\": IP5}\n",
    "    ]).json()\n",
    "\n",
    "    for IP_info in response:\n",
    "        for k,v in IP_info.items():\n",
    "            print(k,v)\n",
    "        print(\"**************************************************\\n\")"
   ]
  }
 ],
 "metadata": {
  "kernelspec": {
   "display_name": "Python 3",
   "language": "python",
   "name": "python3"
  },
  "language_info": {
   "codemirror_mode": {
    "name": "ipython",
    "version": 3
   },
   "file_extension": ".py",
   "mimetype": "text/x-python",
   "name": "python",
   "nbconvert_exporter": "python",
   "pygments_lexer": "ipython3",
   "version": "3.8.5"
  }
 },
 "nbformat": 4,
 "nbformat_minor": 4
}
