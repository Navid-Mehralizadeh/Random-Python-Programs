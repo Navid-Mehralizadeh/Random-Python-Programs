{
 "cells": [
  {
   "cell_type": "code",
   "execution_count": 3,
   "metadata": {},
   "outputs": [
    {
     "name": "stdout",
     "output_type": "stream",
     "text": [
      "Writing Calculator.py\n"
     ]
    }
   ],
   "source": [
    "%%writefile Calculator.py\n",
    "# Enter two numbers and an opperator\n",
    "\n",
    "def calculator(number1,number2,opperator):\n",
    "    \n",
    "    while True:\n",
    "    \n",
    "        if opperator==\"+\":\n",
    "            return (number1+number2)\n",
    "    \n",
    "        elif opperator==\"-\":\n",
    "            return (number1-number2) \n",
    "        \n",
    "        elif opperator==\"*\":\n",
    "            return (number1*number2) \n",
    "     \n",
    "        elif opperator==\"/\" and number2==0:\n",
    "            return (\"Not divisible!\")\n",
    "        \n",
    "        elif opperator==\"/\":\n",
    "            return (number1/number2) \n",
    "        \n",
    "        else:\n",
    "            print(\"Try again\")\n",
    "            break\n",
    "            \n",
    "def main():\n",
    "    number1=int(input(\"Enter first number: \"))\n",
    "    number2=int(input(\"Enter second number: \"))\n",
    "    opperator=input(\"Choose an opperator between '+','-','*','/': \")\n",
    "    \n",
    "    print(calculator(number1,number2,opperator))\n",
    "    \n",
    "if __name__ == '__main__':\n",
    "    main()    "
   ]
  },
  {
   "cell_type": "code",
   "execution_count": null,
   "metadata": {},
   "outputs": [],
   "source": []
  }
 ],
 "metadata": {
  "kernelspec": {
   "display_name": "Python 3",
   "language": "python",
   "name": "python3"
  },
  "language_info": {
   "codemirror_mode": {
    "name": "ipython",
    "version": 3
   },
   "file_extension": ".py",
   "mimetype": "text/x-python",
   "name": "python",
   "nbconvert_exporter": "python",
   "pygments_lexer": "ipython3",
   "version": "3.8.5"
  }
 },
 "nbformat": 4,
 "nbformat_minor": 4
}
